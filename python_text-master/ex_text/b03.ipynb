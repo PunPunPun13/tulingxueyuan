{
 "cells": [
  {
   "cell_type": "markdown",
   "metadata": {},
   "source": [
    "10 < cost < 50 的等价表达式"
   ]
  },
  {
   "cell_type": "code",
   "execution_count": 11,
   "metadata": {},
   "outputs": [
    {
     "name": "stdout",
     "output_type": "stream",
     "text": [
      "输入数字38\n"
     ]
    },
    {
     "data": {
      "text/plain": [
       "True"
      ]
     },
     "execution_count": 11,
     "metadata": {},
     "output_type": "execute_result"
    }
   ],
   "source": [
    "cost = int(input('输入数字'))\n",
    "(10 < cost ) and (cost < 50)\n"
   ]
  },
  {
   "cell_type": "markdown",
   "metadata": {},
   "source": [
    "使用int()将小数转换成整数,结果是向上取整还是向下取整"
   ]
  },
  {
   "cell_type": "code",
   "execution_count": 12,
   "metadata": {},
   "outputs": [
    {
     "data": {
      "text/plain": [
       "3"
      ]
     },
     "execution_count": 12,
     "metadata": {},
     "output_type": "execute_result"
    }
   ],
   "source": [
    "print(int(3.4))"
   ]
  },
  {
   "cell_type": "markdown",
   "metadata": {},
   "source": [
    "写一个程序,判断给定年份是否为闰年\n",
    "    -闰年的定义:能够被4整除的年份叫做闰年"
   ]
  },
  {
   "cell_type": "code",
   "execution_count": 14,
   "metadata": {},
   "outputs": [
    {
     "data": {
      "text/plain": [
       "2"
      ]
     },
     "execution_count": 14,
     "metadata": {},
     "output_type": "execute_result"
    }
   ],
   "source": [
    "6 % 4"
   ]
  },
  {
   "cell_type": "code",
   "execution_count": 23,
   "metadata": {},
   "outputs": [
    {
     "name": "stdout",
     "output_type": "stream",
     "text": [
      "请输入年份2000\n",
      "恭喜,是闰年的!\n"
     ]
    }
   ],
   "source": [
    "year = input(\"请输入年份\")\n",
    "if int(year) % 4 == 0:\n",
    "    print(\"恭喜,是闰年的!\")\n",
    "elif int(year) % 4 != 0:\n",
    "    print(\"抱歉,并不是闰年呢~\")\n"
   ]
  },
  {
   "cell_type": "code",
   "execution_count": 27,
   "metadata": {},
   "outputs": [
    {
     "name": "stdout",
     "output_type": "stream",
     "text": [
      "请输入年份: eee2018\n",
      "叫你输入年份,输的是啥哇?\n"
     ]
    }
   ],
   "source": [
    "year = input(\"请输入年份: \")\n",
    "# 判断用户输入的是不是数字?\n",
    "\n",
    "if year.isdigit():\n",
    "    year = int(year)\n",
    "    \n",
    "    if year % 4 == 0:\n",
    "        print(str(year) + \"是闰年\")\n",
    "    elif year % 4 != 0:\n",
    "        print(str(year) + \"不是闰年\")\n",
    "else:\n",
    "    print(\"叫你输入年份,输的是啥哇?\")"
   ]
  },
  {
   "cell_type": "markdown",
   "metadata": {},
   "source": [
    "给定用户三次机会,猜想我们程序生成的一个数字A,每次用户猜想过后会提示数字是否正确以及用户输入数字是大于还是小于A,当机会用尽后提示用户已经输掉了游戏"
   ]
  },
  {
   "cell_type": "code",
   "execution_count": 3,
   "metadata": {},
   "outputs": [
    {
     "name": "stdout",
     "output_type": "stream",
     "text": [
      "猜一下数字是多少?ggg\n",
      "叫你输入数字!!\n",
      "猜一下数字是多少?ggggg\n",
      "叫你输入数字!!\n",
      "猜一下数字是多少?gggg\n",
      "叫你输入数字!!\n",
      "猜一下数字是多少?88\n",
      "你的数字太大了\n",
      "猜一下数字是多少?50\n",
      "你的数字太大了\n",
      "猜一下数字是多少?30\n",
      "你的数字太小了\n",
      "你的机会用完了,退出游戏\n"
     ]
    }
   ],
   "source": [
    "import random\n",
    "secret = random.randint(1, 100) # 计算机生成一个随机数\n",
    "\n",
    "times = 3 # 初始化用户的次数,是三次\n",
    "\n",
    "while times:\n",
    "    num = input(\"猜一下数字是多少?\")\n",
    "    \n",
    "    if num.isdigit():\n",
    "        tmp = int(num)\n",
    "        if tmp == secret:\n",
    "            print(\"你猜对了!!\")\n",
    "            break\n",
    "        elif tmp < secret:\n",
    "            print(\"你的数字太小了\")\n",
    "            times = times - 1\n",
    "        else:\n",
    "            print(\"你的数字太大了\")\n",
    "            times = times - 1\n",
    "        \n",
    "    else:\n",
    "        print(\"叫你输入数字!!\")\n",
    "    \n",
    "print(\"你的机会用完了,退出游戏\")\n"
   ]
  }
 ],
 "metadata": {
  "kernelspec": {
   "display_name": "Python 3",
   "language": "python",
   "name": "python3"
  },
  "language_info": {
   "codemirror_mode": {
    "name": "ipython",
    "version": 3
   },
   "file_extension": ".py",
   "mimetype": "text/x-python",
   "name": "python",
   "nbconvert_exporter": "python",
   "pygments_lexer": "ipython3",
   "version": "3.6.3"
  }
 },
 "nbformat": 4,
 "nbformat_minor": 2
}
