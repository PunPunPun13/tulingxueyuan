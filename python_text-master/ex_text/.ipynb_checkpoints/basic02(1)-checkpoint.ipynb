{
 "cells": [
  {
   "cell_type": "markdown",
   "metadata": {
    "collapsed": true
   },
   "source": []
  },
  {
   "cell_type": "markdown",
   "metadata": {},
   "source": [
    "\"Tuling\"和\"tuling\"是一样的吗？"
   ]
  },
  {
   "cell_type": "code",
   "execution_count": 3,
   "metadata": {},
   "outputs": [
    {
     "data": {
      "text/plain": [
       "False"
      ]
     },
     "execution_count": 3,
     "metadata": {},
     "output_type": "execute_result"
    }
   ],
   "source": [
    "# \"C\" == \"c\"\n",
    "\n",
    "\"李四\" == '李4'"
   ]
  },
  {
   "cell_type": "markdown",
   "metadata": {},
   "source": [
    "”=“ 和 “==” 的运用与区别\n",
    "\n",
    "    - \"=\"是用来赋值的\n",
    "    - \"==\"是用来判断两个对象是否相等的"
   ]
  },
  {
   "cell_type": "code",
   "execution_count": 4,
   "metadata": {},
   "outputs": [
    {
     "name": "stdout",
     "output_type": "stream",
     "text": [
      "1\n"
     ]
    }
   ],
   "source": [
    "a = 1\n",
    "print(a)"
   ]
  },
  {
   "cell_type": "markdown",
   "metadata": {},
   "source": [
    "了解字符串拼接\n"
   ]
  },
  {
   "cell_type": "code",
   "execution_count": 5,
   "metadata": {},
   "outputs": [
    {
     "data": {
      "text/plain": [
       "'我喜欢列一飞小姐姐刘亦菲小姐姐也喜欢我'"
      ]
     },
     "execution_count": 5,
     "metadata": {},
     "output_type": "execute_result"
    }
   ],
   "source": [
    "\"我喜欢\" + \"列一飞小姐姐\" + \"刘亦菲小姐姐也喜欢我\""
   ]
  },
  {
   "cell_type": "markdown",
   "metadata": {},
   "source": [
    "编写程序,要求用户输入姓名并且打印\"你好,姓名\""
   ]
  },
  {
   "cell_type": "code",
   "execution_count": 6,
   "metadata": {},
   "outputs": [
    {
     "name": "stdout",
     "output_type": "stream",
     "text": [
      "请输入姓名囍近萍\n",
      "你好囍近萍\n"
     ]
    }
   ],
   "source": [
    "name = input(\"请输入姓名\")\n",
    "print(\"你好\" + name)"
   ]
  },
  {
   "cell_type": "markdown",
   "metadata": {},
   "source": [
    "编写程序,要求用户输入1-100之间的整数并且判断,输入符合要求的打印\"你好看\",否则打印\"你丑八怪,天黑别把灯打开\""
   ]
  },
  {
   "cell_type": "code",
   "execution_count": 15,
   "metadata": {},
   "outputs": [
    {
     "name": "stdout",
     "output_type": "stream",
     "text": [
      "请输入1-100之间的整数12\n",
      "<class 'str'>\n"
     ]
    }
   ],
   "source": [
    "temp = int(input(\"请输入1-100之间的整数\"))\n",
    "if 1 <= temp <= 100:\n",
    "    print(\"你好看\")\n",
    "else:\n",
    "    print(\"你丑八怪,天黑别把灯打开\")\n",
    "    "
   ]
  },
  {
   "cell_type": "code",
   "execution_count": 19,
   "metadata": {},
   "outputs": [
    {
     "name": "stdout",
     "output_type": "stream",
     "text": [
      "请输入一个零到一百的整数: eee10\n",
      "丑八怪,天黑别把灯打开\n"
     ]
    }
   ],
   "source": [
    "temp = input(\"请输入一个零到一百的整数: \")\n",
    "\n",
    "if temp.isdigit():\n",
    "    temp = int(temp)\n",
    "    if 1 <= temp <= 100:\n",
    "        print (\"你好看\")\n",
    "    else:\n",
    "        print(\"你丑八怪,天黑别把灯打开\")\n",
    "else:\n",
    "    print(\"丑八怪,天黑别把灯打开\")"
   ]
  },
  {
   "cell_type": "code",
   "execution_count": 22,
   "metadata": {},
   "outputs": [
    {
     "name": "stdout",
     "output_type": "stream",
     "text": [
      "请输入love 3 maya\n"
     ]
    },
    {
     "data": {
      "text/plain": [
       "False"
      ]
     },
     "execution_count": 22,
     "metadata": {},
     "output_type": "execute_result"
    }
   ],
   "source": [
    "temp = input(\"请输入\")\n",
    "\n",
    "# print(type(temp))\n",
    "temp.isdigit()"
   ]
  }
 ],
 "metadata": {
  "kernelspec": {
   "display_name": "Python 3",
   "language": "python",
   "name": "python3"
  },
  "language_info": {
   "codemirror_mode": {
    "name": "ipython",
    "version": 3
   },
   "file_extension": ".py",
   "mimetype": "text/x-python",
   "name": "python",
   "nbconvert_exporter": "python",
   "pygments_lexer": "ipython3",
   "version": "3.6.3"
  }
 },
 "nbformat": 4,
 "nbformat_minor": 1
}
