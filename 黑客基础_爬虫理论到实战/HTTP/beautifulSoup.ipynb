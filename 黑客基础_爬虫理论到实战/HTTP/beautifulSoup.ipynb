{
 "cells": [
  {
   "cell_type": "code",
   "execution_count": 2,
   "metadata": {
    "collapsed": true
   },
   "outputs": [],
   "source": [
    "html_doc = \"\"\"\n",
    "<bookstore>\n",
    "\n",
    "<book category=\"COOKING\">\n",
    "  <title lang=\"en\">Everyday Italian</title>\n",
    "  <author>Giada De Laurentiis</author>\n",
    "  <year>2005</year>\n",
    "  <price>30.00</price>\n",
    "</book>\n",
    "\n",
    "<book category=\"CHILDREN\">\n",
    "  <title lang=\"en\">Harry Potter</title>\n",
    "  <author>J K. Rowling</author>\n",
    "  <year>2005</year>\n",
    "  <price>29.99</price>\n",
    "</book>\n",
    "\n",
    "<book category=\"WEB\">\n",
    "  <title lang=\"en\">XQuery Kick Start</title>\n",
    "  <author>James McGovern</author>\n",
    "  <author>Per Bothner</author>\n",
    "  <author>Kurt Cagle</author>\n",
    "  <author>James Linn</author>\n",
    "  <author>Vaidyanathan Nagarajan</author>\n",
    "  <year>2003</year>\n",
    "  <price>49.99</price>\n",
    "</book>\n",
    "\n",
    "<book category=\"WEB\">\n",
    "  <title lang=\"en\">Learning XML</title>\n",
    "  <author>Erik T. Ray</author>\n",
    "  <year>2003</year>\n",
    "  <price>39.95</price>\n",
    "</book>\n",
    "\n",
    "</bookstore>\n",
    "\"\"\""
   ]
  },
  {
   "cell_type": "code",
   "execution_count": 3,
   "metadata": {},
   "outputs": [
    {
     "name": "stdout",
     "output_type": "stream",
     "text": [
      "<bookstore>\n",
      " <book category=\"COOKING\">\n",
      "  <title lang=\"en\">\n",
      "   Everyday Italian\n",
      "  </title>\n",
      "  <author>\n",
      "   Giada De Laurentiis\n",
      "  </author>\n",
      "  <year>\n",
      "   2005\n",
      "  </year>\n",
      "  <price>\n",
      "   30.00\n",
      "  </price>\n",
      " </book>\n",
      " <book category=\"CHILDREN\">\n",
      "  <title lang=\"en\">\n",
      "   Harry Potter\n",
      "  </title>\n",
      "  <author>\n",
      "   J K. Rowling\n",
      "  </author>\n",
      "  <year>\n",
      "   2005\n",
      "  </year>\n",
      "  <price>\n",
      "   29.99\n",
      "  </price>\n",
      " </book>\n",
      " <book category=\"WEB\">\n",
      "  <title lang=\"en\">\n",
      "   XQuery Kick Start\n",
      "  </title>\n",
      "  <author>\n",
      "   James McGovern\n",
      "  </author>\n",
      "  <author>\n",
      "   Per Bothner\n",
      "  </author>\n",
      "  <author>\n",
      "   Kurt Cagle\n",
      "  </author>\n",
      "  <author>\n",
      "   James Linn\n",
      "  </author>\n",
      "  <author>\n",
      "   Vaidyanathan Nagarajan\n",
      "  </author>\n",
      "  <year>\n",
      "   2003\n",
      "  </year>\n",
      "  <price>\n",
      "   49.99\n",
      "  </price>\n",
      " </book>\n",
      " <book category=\"WEB\">\n",
      "  <title lang=\"en\">\n",
      "   Learning XML\n",
      "  </title>\n",
      "  <author>\n",
      "   Erik T. Ray\n",
      "  </author>\n",
      "  <year>\n",
      "   2003\n",
      "  </year>\n",
      "  <price>\n",
      "   39.95\n",
      "  </price>\n",
      " </book>\n",
      "</bookstore>\n",
      "\n"
     ]
    }
   ],
   "source": [
    "from bs4 import BeautifulSoup\n",
    "soup = BeautifulSoup(html_doc,\"html.parser\")\n",
    "print (soup.prettify())"
   ]
  },
  {
   "cell_type": "code",
   "execution_count": 4,
   "metadata": {},
   "outputs": [
    {
     "data": {
      "text/plain": [
       "<book category=\"COOKING\">\n",
       "<title lang=\"en\">Everyday Italian</title>\n",
       "<author>Giada De Laurentiis</author>\n",
       "<year>2005</year>\n",
       "<price>30.00</price>\n",
       "</book>"
      ]
     },
     "execution_count": 4,
     "metadata": {},
     "output_type": "execute_result"
    }
   ],
   "source": [
    "soup.book"
   ]
  },
  {
   "cell_type": "code",
   "execution_count": 6,
   "metadata": {},
   "outputs": [
    {
     "data": {
      "text/plain": [
       "[<book category=\"COOKING\">\n",
       " <title lang=\"en\">Everyday Italian</title>\n",
       " <author>Giada De Laurentiis</author>\n",
       " <year>2005</year>\n",
       " <price>30.00</price>\n",
       " </book>, <book category=\"CHILDREN\">\n",
       " <title lang=\"en\">Harry Potter</title>\n",
       " <author>J K. Rowling</author>\n",
       " <year>2005</year>\n",
       " <price>29.99</price>\n",
       " </book>, <book category=\"WEB\">\n",
       " <title lang=\"en\">XQuery Kick Start</title>\n",
       " <author>James McGovern</author>\n",
       " <author>Per Bothner</author>\n",
       " <author>Kurt Cagle</author>\n",
       " <author>James Linn</author>\n",
       " <author>Vaidyanathan Nagarajan</author>\n",
       " <year>2003</year>\n",
       " <price>49.99</price>\n",
       " </book>, <book category=\"WEB\">\n",
       " <title lang=\"en\">Learning XML</title>\n",
       " <author>Erik T. Ray</author>\n",
       " <year>2003</year>\n",
       " <price>39.95</price>\n",
       " </book>]"
      ]
     },
     "execution_count": 6,
     "metadata": {},
     "output_type": "execute_result"
    }
   ],
   "source": [
    "soup.find_all('book')"
   ]
  },
  {
   "cell_type": "code",
   "execution_count": 8,
   "metadata": {},
   "outputs": [
    {
     "name": "stdout",
     "output_type": "stream",
     "text": [
      "<title lang=\"en\">Everyday Italian</title>\n",
      "<author>Giada De Laurentiis</author>\n",
      "<title lang=\"en\">Harry Potter</title>\n",
      "<author>J K. Rowling</author>\n",
      "<title lang=\"en\">XQuery Kick Start</title>\n",
      "<author>James McGovern</author>\n",
      "<author>Per Bothner</author>\n",
      "<author>Kurt Cagle</author>\n",
      "<author>James Linn</author>\n",
      "<author>Vaidyanathan Nagarajan</author>\n",
      "<title lang=\"en\">Learning XML</title>\n",
      "<author>Erik T. Ray</author>\n"
     ]
    }
   ],
   "source": [
    "for book in soup.find_all('book'):\n",
    "    print(book.title)\n",
    "    for ath in book.find_all('author'):\n",
    "        print(ath)"
   ]
  },
  {
   "cell_type": "code",
   "execution_count": 10,
   "metadata": {},
   "outputs": [
    {
     "name": "stdout",
     "output_type": "stream",
     "text": [
      "title: Everyday Italian\n",
      "author: Giada De Laurentiis\n",
      "****************\n",
      "title: Harry Potter\n",
      "author: J K. Rowling\n",
      "****************\n",
      "title: XQuery Kick Start\n",
      "author: James McGovern\n",
      "author: Per Bothner\n",
      "author: Kurt Cagle\n",
      "author: James Linn\n",
      "author: Vaidyanathan Nagarajan\n",
      "****************\n",
      "title: Learning XML\n",
      "author: Erik T. Ray\n",
      "****************\n"
     ]
    }
   ],
   "source": [
    "for book in soup.find_all('book'):\n",
    "    print(\"title:\",book.title.contents[0])\n",
    "    for ath in book.find_all('author'):\n",
    "        print(\"author:\",ath.contents[0])\n",
    "    print(\"****************\")"
   ]
  },
  {
   "cell_type": "code",
   "execution_count": 11,
   "metadata": {},
   "outputs": [
    {
     "name": "stdout",
     "output_type": "stream",
     "text": [
      "title: Everyday Italian\n",
      "author: Giada De Laurentiis\n",
      "****************\n",
      "title: Harry Potter\n",
      "author: J K. Rowling\n",
      "****************\n",
      "title: XQuery Kick Start\n",
      "author: James McGovern\n",
      "author: Per Bothner\n",
      "author: Kurt Cagle\n",
      "author: James Linn\n",
      "author: Vaidyanathan Nagarajan\n",
      "****************\n",
      "title: Learning XML\n",
      "author: Erik T. Ray\n",
      "****************\n"
     ]
    }
   ],
   "source": [
    "for book in soup.find_all('book'):\n",
    "    print(\"title:\",book.title.string)\n",
    "    for ath in book.find_all('author'):\n",
    "        print(\"author:\",ath.string)\n",
    "    print(\"****************\")"
   ]
  }
 ],
 "metadata": {
  "kernelspec": {
   "display_name": "Python 3",
   "language": "python",
   "name": "python3"
  },
  "language_info": {
   "codemirror_mode": {
    "name": "ipython",
    "version": 3
   },
   "file_extension": ".py",
   "mimetype": "text/x-python",
   "name": "python",
   "nbconvert_exporter": "python",
   "pygments_lexer": "ipython3",
   "version": "3.6.3"
  }
 },
 "nbformat": 4,
 "nbformat_minor": 2
}
