{
 "cells": [
  {
   "cell_type": "code",
   "execution_count": 1,
   "metadata": {
    "collapsed": true
   },
   "outputs": [],
   "source": [
    "html_doc = \"\"\"\n",
    "<bookstore>\n",
    "\n",
    "<book category=\"COOKING\">\n",
    "  <title lang=\"en\">Everyday Italian</title>\n",
    "  <author>Giada De Laurentiis</author>\n",
    "  <year>2005</year>\n",
    "  <price>30.00</price>\n",
    "</book>\n",
    "\n",
    "<book category=\"CHILDREN\">\n",
    "  <title lang=\"en\">Harry Potter</title>\n",
    "  <author>J K. Rowling</author>\n",
    "  <year>2005</year>\n",
    "  <price>29.99</price>\n",
    "</book>\n",
    "\n",
    "<book category=\"WEB\">\n",
    "  <title lang=\"en\">XQuery Kick Start</title>\n",
    "  <author>James McGovern</author>\n",
    "  <author>Per Bothner</author>\n",
    "  <author>Kurt Cagle</author>\n",
    "  <author>James Linn</author>\n",
    "  <author>Vaidyanathan Nagarajan</author>\n",
    "  <year>2003</year>\n",
    "  <price>49.99</price>\n",
    "</book>\n",
    "\n",
    "<book category=\"WEB\">\n",
    "  <title lang=\"en\">Learning XML</title>\n",
    "  <author>Erik T. Ray</author>\n",
    "  <year>2003</year>\n",
    "  <price>39.95</price>\n",
    "</book>\n",
    "\n",
    "</bookstore>\n",
    "\"\"\""
   ]
  },
  {
   "cell_type": "code",
   "execution_count": 2,
   "metadata": {
    "collapsed": true
   },
   "outputs": [],
   "source": [
    "from lxml import etree\n",
    "from io import StringIO"
   ]
  },
  {
   "cell_type": "code",
   "execution_count": 3,
   "metadata": {},
   "outputs": [
    {
     "data": {
      "text/plain": [
       "<lxml.etree._ElementTree at 0x7f42ce6e9b48>"
      ]
     },
     "execution_count": 3,
     "metadata": {},
     "output_type": "execute_result"
    }
   ],
   "source": [
    "doc = StringIO(html_doc)\n",
    "book_tree = etree.parse(doc)\n",
    "book_tree"
   ]
  },
  {
   "cell_type": "code",
   "execution_count": 4,
   "metadata": {},
   "outputs": [
    {
     "data": {
      "text/plain": [
       "[<Element book at 0x7f42cc1419c8>]"
      ]
     },
     "execution_count": 4,
     "metadata": {},
     "output_type": "execute_result"
    }
   ],
   "source": [
    "first_book = book_tree.xpath(\"/bookstore/book[1]\")\n",
    "first_book"
   ]
  },
  {
   "cell_type": "code",
   "execution_count": 6,
   "metadata": {},
   "outputs": [
    {
     "data": {
      "text/plain": [
       "'Everyday Italian'"
      ]
     },
     "execution_count": 6,
     "metadata": {},
     "output_type": "execute_result"
    }
   ],
   "source": [
    "first_book[0].xpath(\"./title/text()\")[0]"
   ]
  },
  {
   "cell_type": "code",
   "execution_count": 7,
   "metadata": {},
   "outputs": [
    {
     "data": {
      "text/plain": [
       "[<Element book at 0x7f42cc5e07c8>]"
      ]
     },
     "execution_count": 7,
     "metadata": {},
     "output_type": "execute_result"
    }
   ],
   "source": [
    "last_book = book_tree.xpath(\"/bookstore/book[last()]\")\n",
    "last_book"
   ]
  },
  {
   "cell_type": "code",
   "execution_count": 8,
   "metadata": {},
   "outputs": [
    {
     "data": {
      "text/plain": [
       "'Learning XML'"
      ]
     },
     "execution_count": 8,
     "metadata": {},
     "output_type": "execute_result"
    }
   ],
   "source": [
    "last_book[0].xpath(\"./title/text()\")[0]"
   ]
  },
  {
   "cell_type": "code",
   "execution_count": 9,
   "metadata": {},
   "outputs": [
    {
     "data": {
      "text/plain": [
       "['Everyday Italian', 'Harry Potter', 'XQuery Kick Start', 'Learning XML']"
      ]
     },
     "execution_count": 9,
     "metadata": {},
     "output_type": "execute_result"
    }
   ],
   "source": [
    "titles = book_tree.xpath(\"//title[@lang]/text()\")\n",
    "titles"
   ]
  },
  {
   "cell_type": "code",
   "execution_count": 10,
   "metadata": {
    "collapsed": true
   },
   "outputs": [],
   "source": [
    "books_above35 = book_tree.xpath(\"/bookstore/book[price>35.00]\")"
   ]
  },
  {
   "cell_type": "code",
   "execution_count": 11,
   "metadata": {},
   "outputs": [
    {
     "data": {
      "text/plain": [
       "[<Element book at 0x7f42cc156f48>, <Element book at 0x7f42cc5e07c8>]"
      ]
     },
     "execution_count": 11,
     "metadata": {},
     "output_type": "execute_result"
    }
   ],
   "source": [
    "books_above35"
   ]
  },
  {
   "cell_type": "code",
   "execution_count": 12,
   "metadata": {},
   "outputs": [
    {
     "name": "stdout",
     "output_type": "stream",
     "text": [
      "XQuery Kick Start\n",
      "Learning XML\n"
     ]
    }
   ],
   "source": [
    "for book in books_above35:\n",
    "    print(book.xpath(\"./title/text()\")[0])"
   ]
  },
  {
   "cell_type": "code",
   "execution_count": 13,
   "metadata": {},
   "outputs": [
    {
     "data": {
      "text/plain": [
       "[<Element title at 0x7f42cc141e48>,\n",
       " <Element price at 0x7f42cc15e948>,\n",
       " <Element title at 0x7f42cc156a48>,\n",
       " <Element price at 0x7f42cc15ea08>,\n",
       " <Element title at 0x7f42cc156508>,\n",
       " <Element price at 0x7f42cc15ea88>,\n",
       " <Element title at 0x7f42cc156c88>,\n",
       " <Element price at 0x7f42cc15eac8>]"
      ]
     },
     "execution_count": 13,
     "metadata": {},
     "output_type": "execute_result"
    }
   ],
   "source": [
    "titles_and_prices = book_tree.xpath(\"/bookstore/book/title | //price\")\n",
    "titles_and_prices"
   ]
  },
  {
   "cell_type": "code",
   "execution_count": 15,
   "metadata": {},
   "outputs": [
    {
     "name": "stdout",
     "output_type": "stream",
     "text": [
      "Everyday Italian\n",
      "30.00\n",
      "Harry Potter\n",
      "29.99\n",
      "XQuery Kick Start\n",
      "49.99\n",
      "Learning XML\n",
      "39.95\n"
     ]
    }
   ],
   "source": [
    "for tp in titles_and_prices:\n",
    "    print(tp.xpath(\"./text()\")[0])"
   ]
  }
 ],
 "metadata": {
  "kernelspec": {
   "display_name": "Python 3",
   "language": "python",
   "name": "python3"
  },
  "language_info": {
   "codemirror_mode": {
    "name": "ipython",
    "version": 3
   },
   "file_extension": ".py",
   "mimetype": "text/x-python",
   "name": "python",
   "nbconvert_exporter": "python",
   "pygments_lexer": "ipython3",
   "version": "3.6.3"
  }
 },
 "nbformat": 4,
 "nbformat_minor": 2
}
